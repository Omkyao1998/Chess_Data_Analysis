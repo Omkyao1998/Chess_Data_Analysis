{
 "cells": [
  {
   "cell_type": "code",
   "execution_count": null,
   "id": "be34797c",
   "metadata": {},
   "outputs": [],
   "source": [
    "import matplotlib.pyplot as plt\n",
    "import seaborn as sns\n",
    "import numpy as np\n",
    "import pandas as pd \n",
    "from scipy import stats\n",
    "import math\n",
    "import multiprocessing \n",
    "import warnings\n",
    "from functools import partial\n",
    "from time import sleep\n",
    "import datatable as dt"
   ]
  },
  {
   "cell_type": "code",
   "execution_count": null,
   "id": "ffecb6b5",
   "metadata": {},
   "outputs": [],
   "source": [
    "df = pd.read_csv(\"twic_master.csv\") "
   ]
  },
  {
   "cell_type": "code",
   "execution_count": null,
   "id": "538ba92a",
   "metadata": {},
   "outputs": [],
   "source": [
    "columns_to_drop = ['Variation', 'twic_number', 'EventDate', 'mainline_moves', 'Site', \n",
    "                   'Round', 'ECO', 'WhiteFideId', 'BlackFideId', 'WhiteTeam', 'BlackTeam', 'WhiteTitle', 'BlackTitle', \n",
    "                   'EventType', 'FEN', 'SetUp', 'Variant', 'Board', 'PlyCount', 'EventCategory']\n",
    "\n",
    "df.drop(columns=columns_to_drop,inplace=True)"
   ]
  },
  {
   "cell_type": "code",
   "execution_count": null,
   "id": "4719a829",
   "metadata": {},
   "outputs": [],
   "source": [
    "df['Year'] = df['Date'].map(lambda x: str(x)[:4])\n",
    "\n",
    "print(df['Year'].unique())\n",
    "\n",
    "# Get Selected Years\n",
    "df = df[df['Year'].isin(['2012', '2013', '2014', '2015', '2016', '2017', '2018', '2019', '2020', '2021', '2022'])].copy()"
   ]
  },
  {
   "cell_type": "code",
   "execution_count": null,
   "id": "254d9430",
   "metadata": {},
   "outputs": [],
   "source": [
    "viz1 = df.groupby(['Year', 'Opening'])['Opening'].count().reset_index(name='count').sort_values(['Year', 'count'], ascending=[True, False]).groupby('Year').head(3)\n",
    "\n",
    "viz1 = viz1.query(\"\"\"Year <= '2022'\"\"\")\n",
    "\n",
    "# viz1.to_csv(\"viz1.csv\", header=True, index=False)"
   ]
  },
  {
   "cell_type": "code",
   "execution_count": null,
   "id": "f2c0828a",
   "metadata": {},
   "outputs": [],
   "source": [
    "plt.figure(figsize=(15,10))\n",
    "sns.set_style(\"whitegrid\")\n",
    "plt.title(\"Sicilian is the Most Played Chess Opening Variation in Tournaments Since 2012\",size=20)\n",
    "\n",
    "palette={'Sicilian':'#448AFF', \n",
    "         'French':'#455A64', \n",
    "         'King\\'s Indian':'#607D8B', \n",
    "         'Queen\\'s pawn game':'#CFD8DC'}\n",
    "\n",
    "viz1_plot = sns.barplot(data=viz1, x=\"count\", y=\"Year\", hue=\"Opening\")\n",
    "\n",
    "viz1_plot.bar_label(viz1_plot.containers[0],size=14)\n",
    "\n",
    "plt.ylabel(\"Years\",size = 20)\n",
    "plt.tick_params(axis='y',labelsize=15)\n",
    "\n",
    "plt.xlabel(\"Number of Matches Played\", size = 20)\n",
    "plt.tick_params(axis='x',labelsize=15)\n",
    "\n",
    "fig = viz1_plot.get_figure()\n",
    "fig.savefig(\"DMV_Q1_MostPlayedOpening.png\")"
   ]
  },
  {
   "cell_type": "code",
   "execution_count": null,
   "id": "8521ae80",
   "metadata": {},
   "outputs": [],
   "source": [
    "viz2 = df[['Year', 'Online']].groupby(['Year', 'Online'])['Online'].count()"
   ]
  },
  {
   "cell_type": "code",
   "execution_count": null,
   "id": "85d349e3",
   "metadata": {},
   "outputs": [],
   "source": [
    "viz2 = pd.DataFrame(viz2).rename(columns={\"Online\": \"Match_Count\"}).reset_index()"
   ]
  },
  {
   "cell_type": "code",
   "execution_count": null,
   "id": "f6b6c8df",
   "metadata": {},
   "outputs": [],
   "source": [
    "viz2['Online'].replace([True,False],['Online','Offline'],inplace=True)"
   ]
  },
  {
   "cell_type": "code",
   "execution_count": null,
   "id": "b05a6a5c",
   "metadata": {},
   "outputs": [],
   "source": [
    "viz2"
   ]
  },
  {
   "cell_type": "code",
   "execution_count": null,
   "id": "de5f5831",
   "metadata": {},
   "outputs": [],
   "source": [
    "sns.set_style(\"whitegrid\")\n",
    "plt.figure(figsize=(15,10))\n",
    "plt.title(\"Format of Games Played Over Years\",size=20)\n",
    "plt.xlabel(\"Years\",size = 20)\n",
    "plt.tick_params(axis='x',labelsize=15)\n",
    "plt.ylabel(\"Matches Played\", size = 20)\n",
    "plt.tick_params(axis='y',labelsize=15)\n",
    "sns.lineplot(data=viz2, x='Year', y='Match_Count',hue='Online')\n",
    "plt.legend(loc='upper left',prop={'size':20})"
   ]
  },
  {
   "cell_type": "code",
   "execution_count": null,
   "id": "70d550ec",
   "metadata": {},
   "outputs": [],
   "source": [
    "viz3 = df[['White', 'Black','Result','Event','Year']].groupby(['Year','Result'])['Result'].count()"
   ]
  },
  {
   "cell_type": "code",
   "execution_count": null,
   "id": "9fb1af23",
   "metadata": {},
   "outputs": [],
   "source": [
    "conditions = [(df['Result'] == '1-0'),\n",
    "    (df['Result'] == '0-1'),\n",
    "    (df['Result'] == '1/2-1/2')]\n",
    "values = ['White_Pieces', 'Black_Pieces','Draw']\n",
    "df['Winners'] = np.select(conditions,values)"
   ]
  },
  {
   "cell_type": "code",
   "execution_count": null,
   "id": "92093896",
   "metadata": {},
   "outputs": [],
   "source": [
    "viz3 = df[['Year','Winners']].groupby(['Year','Winners'])['Winners'].count()"
   ]
  },
  {
   "cell_type": "code",
   "execution_count": null,
   "id": "f1aa925c",
   "metadata": {},
   "outputs": [],
   "source": [
    "viz3 = pd.DataFrame(viz3).rename(columns={\"Winners\": \"Match_Count\"}).reset_index()"
   ]
  },
  {
   "cell_type": "code",
   "execution_count": null,
   "id": "7b48cfd7",
   "metadata": {},
   "outputs": [],
   "source": [
    "viz3 = viz3[viz3.Winners != '0']"
   ]
  },
  {
   "cell_type": "code",
   "execution_count": null,
   "id": "7ede44de",
   "metadata": {},
   "outputs": [],
   "source": [
    "viz3"
   ]
  },
  {
   "cell_type": "code",
   "execution_count": null,
   "id": "76176c05",
   "metadata": {},
   "outputs": [],
   "source": [
    "sns.set_style(\"whitegrid\")\n",
    "plt.figure(figsize=(15,10))\n",
    "plt.title(\"White Pieces have Higher Winning Rate over Years\",size=20)\n",
    "plt.xlabel(\"Years\",size = 20)\n",
    "plt.tick_params(axis='x',labelsize=15)\n",
    "plt.ylabel(\"Number of Matches Won over Years\", size = 20)\n",
    "plt.tick_params(axis='y',labelsize=15)\n",
    "sns.scatterplot(x=viz3.Year,y=viz3.Match_Count,hue=viz3.Winners,s=1000,alpha=0.5)\n",
    "#mylables = ['Black_Pieces','Draw','White_Pieces']\n",
    "plt.legend(loc='upper left',prop={'size':20})\n",
    "#plt.show()"
   ]
  },
  {
   "cell_type": "code",
   "execution_count": null,
   "id": "fc46763b",
   "metadata": {},
   "outputs": [],
   "source": []
  },
  {
   "cell_type": "code",
   "execution_count": null,
   "id": "c47a5782",
   "metadata": {},
   "outputs": [],
   "source": []
  },
  {
   "cell_type": "code",
   "execution_count": null,
   "id": "b4c93972",
   "metadata": {},
   "outputs": [],
   "source": []
  }
 ],
 "metadata": {
  "kernelspec": {
   "display_name": "Python 3",
   "language": "python",
   "name": "python3"
  },
  "language_info": {
   "codemirror_mode": {
    "name": "ipython",
    "version": 3
   },
   "file_extension": ".py",
   "mimetype": "text/x-python",
   "name": "python",
   "nbconvert_exporter": "python",
   "pygments_lexer": "ipython3",
   "version": "3.8.8"
  }
 },
 "nbformat": 4,
 "nbformat_minor": 5
}
